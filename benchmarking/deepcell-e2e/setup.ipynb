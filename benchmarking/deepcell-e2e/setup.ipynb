{
 "cells": [
  {
   "cell_type": "markdown",
   "metadata": {},
   "source": [
    "## this code is to setup the requirements for the benchmark notebook\n",
    "run this code first. Then run the benchmark notebook. So that one can aviod restarting the kernel after running the install cell in the benchmark notebook"
   ]
  },
  {
   "cell_type": "code",
   "execution_count": null,
   "metadata": {},
   "outputs": [],
   "source": [
    "import sys\n",
    "if sys.prefix != sys.base_prefix:\n",
    "  # In a venv. Just install it!\n",
    "  ! pip install --upgrade --quiet -r ../../requirements.txt\n",
    "else:\n",
    "  # Not in a venv. Install to user's directory.\n",
    "  ! pip install --user --upgrade --quiet -r ../../requirements.txt\n"
   ]
  }
 ],
 "metadata": {
  "language_info": {
   "name": "python"
  }
 },
 "nbformat": 4,
 "nbformat_minor": 2
}
