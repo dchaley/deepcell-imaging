import sys
if sys.prefix != sys.base_prefix:
  # In a venv. Just install it!
  ! pip install --upgrade --quiet -r ../../requirements.txt
else:
  # Not in a venv. Install to user's directory.
  ! pip install --user --upgrade --quiet -r ../../requirements.txt
