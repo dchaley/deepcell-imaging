{
 "cells": [
  {
   "cell_type": "markdown",
   "id": "e89f6d1d-e93a-4e6e-b90b-d216accf1bae",
   "metadata": {},
   "source": [
    "TIF images → `Extract-Channels` → `Visualize-Inputs` → `Predict-Segments` → `Visualize-Segmentation` → predicted segmentations"
   ]
  },
  {
   "cell_type": "markdown",
   "id": "bd756e35-3523-4ba1-aa87-4282442d05e9",
   "metadata": {
    "editable": true,
    "slideshow": {
     "slide_type": ""
    },
    "tags": []
   },
   "source": [
    "From source image, extract the nuclear & membrane channels. Save each to npz.\n",
    "\n",
    "Not sure how we'll configure channel extraction. Maybe should do that individually."
   ]
  },
  {
   "cell_type": "code",
   "execution_count": null,
   "id": "ee17aa2b-1f47-4b65-a0d2-3de2fde8d5e7",
   "metadata": {
    "editable": true,
    "slideshow": {
     "slide_type": ""
    },
    "tags": [
     "parameters"
    ]
   },
   "outputs": [],
   "source": [
    "# Parameters (overridden by notebook parameters)\n",
    "input_path = os.path.expanduser('~') + '/.keras/datasets/20200810_tissue_dataset.npz'\n",
    "output_path = './saves'"
   ]
  },
  {
   "cell_type": "code",
   "execution_count": 2,
   "id": "053e7add-fac9-4867-8a52-7e8d072ee20e",
   "metadata": {},
   "outputs": [],
   "source": [
    "# Todo: read the data from somewhere else\n",
    "# For now, this puts the data in a known place\n",
    "from deepcell.datasets import multiplex_tissue\n",
    "multiplex_tissue.load_data();"
   ]
  },
  {
   "cell_type": "code",
   "execution_count": 3,
   "id": "ccad3ffe-5c73-41a2-ad37-4ab0b39c7896",
   "metadata": {},
   "outputs": [],
   "source": [
    "import numpy as np\n",
    "import os\n",
    "\n",
    "with np.load(input_path) as loader:\n",
    "    X_data = loader['X']\n",
    "\n",
    "# An array of shape [num_inputs, height, width] containing intensity of nuclear channel\n",
    "input_nuclear = X_data[:, :, :, 0]\n",
    "\n",
    "# An array of shape [num_inputs, height, width] containing intensity of membrane channel\n",
    "input_membrane = X_data[:, :, :, 1]\n",
    "\n",
    "np.savez(output_path + '/input_channels.npz', nuclear=input_nuclear, membrane=input_membrane)"
   ]
  }
 ],
 "metadata": {
  "kernelspec": {
   "display_name": "Python 3 (ipykernel)",
   "language": "python",
   "name": "python3"
  },
  "language_info": {
   "codemirror_mode": {
    "name": "ipython",
    "version": 3
   },
   "file_extension": ".py",
   "mimetype": "text/x-python",
   "name": "python",
   "nbconvert_exporter": "python",
   "pygments_lexer": "ipython3",
   "version": "3.10.12"
  }
 },
 "nbformat": 4,
 "nbformat_minor": 5
}
