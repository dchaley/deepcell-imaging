{
 "cells": [
  {
   "cell_type": "markdown",
   "id": "e89f6d1d-e93a-4e6e-b90b-d216accf1bae",
   "metadata": {},
   "source": [
    "TIF images → `Extract-Channels` → `Visualize-Inputs` → `Predict-Segments` → `Visualize-Segmentation` → predicted segmentations"
   ]
  },
  {
   "cell_type": "markdown",
   "id": "bd756e35-3523-4ba1-aa87-4282442d05e9",
   "metadata": {
    "editable": true,
    "slideshow": {
     "slide_type": ""
    },
    "tags": []
   },
   "source": [
    "From source image, extract the nuclear & membrane channels. Save each to npz.\n",
    "\n",
    "Not sure how we'll configure channel extraction. Maybe should do that individually."
   ]
  },
  {
   "cell_type": "code",
   "execution_count": 1,
   "id": "52f005e9-07d3-4f63-8928-90e40d576255",
   "metadata": {},
   "outputs": [],
   "source": [
    "import os"
   ]
  },
  {
   "cell_type": "code",
   "execution_count": 2,
   "id": "ee17aa2b-1f47-4b65-a0d2-3de2fde8d5e7",
   "metadata": {
    "editable": true,
    "slideshow": {
     "slide_type": ""
    },
    "tags": [
     "parameters"
    ]
   },
   "outputs": [],
   "source": [
    "# Parameters (overridden by notebook parameters)\n",
    "input_path = os.path.expanduser('~') + '/Downloads/Xenium_FFPE_Human_Breast_Cancer_Rep1_if_image.tif'\n",
    "output_path = './saves'"
   ]
  },
  {
   "cell_type": "code",
   "execution_count": 3,
   "id": "35606a33-ebdf-4c63-8861-5e6f500454d5",
   "metadata": {},
   "outputs": [],
   "source": [
    "import tifffile\n",
    "import numpy as np\n",
    "\n",
    "tif = tifffile.TiffFile(input_path)\n",
    "\n",
    "# The page numbers need to be parameterized somehow…\n",
    "# 2 lists of page numbers?? what if multiple input files? (ark-example data set)\n",
    "\n",
    "# An array of shape [num_inputs, height, width] containing intensity of membrane channel\n",
    "input_membrane = (tif.pages[0].asarray() + tif.pages[1].asarray())[np.newaxis, ...]\n",
    "\n",
    "# An array of shape [num_inputs, height, width] containing intensity of nuclear channel\n",
    "input_nuclear = tif.pages[2].asarray()[np.newaxis, ...]\n",
    "\n",
    "tif.close()"
   ]
  },
  {
   "cell_type": "code",
   "execution_count": 4,
   "id": "6a697374-1261-455e-b55d-98d6b9980f38",
   "metadata": {},
   "outputs": [],
   "source": [
    "np.savez_compressed(output_path + '/input_channels.npz', nuclear=input_nuclear, membrane=input_membrane)"
   ]
  }
 ],
 "metadata": {
  "kernelspec": {
   "display_name": "Python 3 (ipykernel)",
   "language": "python",
   "name": "python3"
  },
  "language_info": {
   "codemirror_mode": {
    "name": "ipython",
    "version": 3
   },
   "file_extension": ".py",
   "mimetype": "text/x-python",
   "name": "python",
   "nbconvert_exporter": "python",
   "pygments_lexer": "ipython3",
   "version": "3.10.12"
  }
 },
 "nbformat": 4,
 "nbformat_minor": 5
}
