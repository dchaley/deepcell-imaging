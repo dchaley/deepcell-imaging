{
 "cells": [
  {
   "cell_type": "markdown",
   "id": "f794338e-92d6-42aa-9081-b9523fa72374",
   "metadata": {},
   "source": [
    "TIF images → `Extract-Channels` → `Visualize-Inputs` → `Predict-Segments` → `Visualize-Segmentation` → predicted segmentations"
   ]
  },
  {
   "cell_type": "markdown",
   "id": "9963bcd8-acea-435a-9314-29164d3af360",
   "metadata": {},
   "source": [
    "# Set up Mesmer + inputs"
   ]
  },
  {
   "cell_type": "code",
   "execution_count": 1,
   "id": "0cc84326-6f88-480b-847c-54842789c76a",
   "metadata": {},
   "outputs": [],
   "source": [
    "import os"
   ]
  },
  {
   "cell_type": "code",
   "execution_count": 2,
   "id": "1529342f-35a2-48c5-942f-4bbbdc2463c9",
   "metadata": {
    "editable": true,
    "slideshow": {
     "slide_type": ""
    },
    "tags": [
     "parameters"
    ]
   },
   "outputs": [],
   "source": [
    "# Parameters (overridden by notebook parameters)\n",
    "input_channels_path = './saves/input_channels.npz'\n",
    "model_path = os.path.expanduser('~') + '/.keras/models/MultiplexSegmentation'\n",
    "output_path = './saves'"
   ]
  },
  {
   "cell_type": "code",
   "execution_count": 3,
   "id": "3e2b52df-f15e-4bcb-a07f-5c61580f582d",
   "metadata": {},
   "outputs": [
    {
     "name": "stderr",
     "output_type": "stream",
     "text": [
      "2023-07-10 15:25:31.047780: I tensorflow/core/platform/cpu_feature_guard.cc:151] This TensorFlow binary is optimized with oneAPI Deep Neural Network Library (oneDNN) to use the following CPU instructions in performance-critical operations:  AVX2 FMA\n",
      "To enable them in other operations, rebuild TensorFlow with the appropriate compiler flags.\n"
     ]
    },
    {
     "name": "stdout",
     "output_type": "stream",
     "text": [
      "WARNING:tensorflow:No training configuration found in save file, so the model was *not* compiled. Compile it manually.\n"
     ]
    }
   ],
   "source": [
    "from deepcell.applications import Mesmer\n",
    "import tensorflow as tf\n",
    "\n",
    "model = tf.keras.models.load_model(model_path)\n",
    "\n",
    "app = Mesmer(model=model)"
   ]
  },
  {
   "cell_type": "code",
   "execution_count": 4,
   "id": "ca6be53e-98fa-49f8-88f2-0c56f5edb4aa",
   "metadata": {
    "editable": true,
    "slideshow": {
     "slide_type": ""
    },
    "tags": []
   },
   "outputs": [],
   "source": [
    "import numpy as np\n",
    "\n",
    "with np.load(input_channels_path) as loader:\n",
    "    # An array of shape [num_inputs, height, width] containing intensity of nuclear channel\n",
    "    inputs_nuclear = loader['nuclear']\n",
    "\n",
    "    # An array of shape [num_inputs, height, width] containing intensity of membrane channel\n",
    "    inputs_membrane = loader['membrane']\n",
    "\n",
    "# An array of shape [num_inputs, height, width, 2] containing nuclear & membrane channels\n",
    "input_channels = np.stack((inputs_nuclear, inputs_membrane), axis=-1)"
   ]
  },
  {
   "cell_type": "markdown",
   "id": "9567191d-d8d9-4d8f-8ade-6e1807dffd1e",
   "metadata": {},
   "source": [
    "# Generate predictions\n",
    "\n",
    "This step is expensive!"
   ]
  },
  {
   "cell_type": "code",
   "execution_count": 5,
   "id": "d8866adc-5185-4590-9cac-ecaabe6fa186",
   "metadata": {},
   "outputs": [],
   "source": [
    "segmentation_predictions = app.predict(input_channels, image_mpp=0.5)"
   ]
  },
  {
   "cell_type": "markdown",
   "id": "7da681ab-ee1d-401e-a5c1-67159a91badc",
   "metadata": {},
   "source": [
    "# Save predictions"
   ]
  },
  {
   "cell_type": "code",
   "execution_count": 6,
   "id": "e783e555-f6f3-4502-af3d-e2fd1577afdf",
   "metadata": {
    "editable": true,
    "slideshow": {
     "slide_type": ""
    },
    "tags": []
   },
   "outputs": [],
   "source": [
    "import numpy as np\n",
    "np.savez_compressed(output_path + '/segmentation_predictions.npz', predictions=segmentation_predictions)"
   ]
  }
 ],
 "metadata": {
  "kernelspec": {
   "display_name": "Python 3 (ipykernel)",
   "language": "python",
   "name": "python3"
  },
  "language_info": {
   "codemirror_mode": {
    "name": "ipython",
    "version": 3
   },
   "file_extension": ".py",
   "mimetype": "text/x-python",
   "name": "python",
   "nbconvert_exporter": "python",
   "pygments_lexer": "ipython3",
   "version": "3.10.12"
  }
 },
 "nbformat": 4,
 "nbformat_minor": 5
}
