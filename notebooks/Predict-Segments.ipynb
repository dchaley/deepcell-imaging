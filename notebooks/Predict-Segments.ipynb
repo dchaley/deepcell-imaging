{
 "cells": [
  {
   "cell_type": "markdown",
   "id": "f794338e-92d6-42aa-9081-b9523fa72374",
   "metadata": {},
   "source": [
    "TIF images → `Extract-Channels` → `Visualize-Inputs` → `Predict-Segments` → `Visualize-Segmentation` → predicted segmentations"
   ]
  },
  {
   "cell_type": "markdown",
   "id": "9963bcd8-acea-435a-9314-29164d3af360",
   "metadata": {},
   "source": [
    "# Setup"
   ]
  },
  {
   "cell_type": "code",
   "execution_count": 1,
   "id": "0cc84326-6f88-480b-847c-54842789c76a",
   "metadata": {},
   "outputs": [],
   "source": [
    "import os\n",
    "import timeit"
   ]
  },
  {
   "cell_type": "code",
   "execution_count": 2,
   "id": "1529342f-35a2-48c5-942f-4bbbdc2463c9",
   "metadata": {
    "editable": true,
    "slideshow": {
     "slide_type": ""
    },
    "tags": [
     "parameters"
    ]
   },
   "outputs": [],
   "source": [
    "# Parameters (overridden by notebook parameters)\n",
    "\n",
    "root_path = '../sample-data/deepcell/mesmer-sample-3'\n",
    "model_path = os.path.expanduser('~') + '/.keras/models/MultiplexSegmentation'"
   ]
  },
  {
   "cell_type": "code",
   "execution_count": 3,
   "id": "a0e5da10-d92f-49a7-8cd1-49a3c5c260dc",
   "metadata": {},
   "outputs": [],
   "source": [
    "input_channels_path = '{}/input_channels.npz'.format(root_path)\n",
    "output_path = root_path"
   ]
  },
  {
   "cell_type": "markdown",
   "id": "8998861a-6a06-4da0-a659-e5d8eecb01fd",
   "metadata": {},
   "source": [
    "### Load Mesmer model & create app"
   ]
  },
  {
   "cell_type": "code",
   "execution_count": 4,
   "id": "3e2b52df-f15e-4bcb-a07f-5c61580f582d",
   "metadata": {},
   "outputs": [
    {
     "name": "stderr",
     "output_type": "stream",
     "text": [
      "2023-11-03 18:27:46.647618: I tensorflow/core/platform/cpu_feature_guard.cc:151] This TensorFlow binary is optimized with oneAPI Deep Neural Network Library (oneDNN) to use the following CPU instructions in performance-critical operations:  AVX2 FMA\n",
      "To enable them in other operations, rebuild TensorFlow with the appropriate compiler flags.\n"
     ]
    },
    {
     "name": "stdout",
     "output_type": "stream",
     "text": [
      "WARNING:tensorflow:No training configuration found in save file, so the model was *not* compiled. Compile it manually.\n",
      "Loaded model in 24.941387450002367 s\n"
     ]
    }
   ],
   "source": [
    "from imaging_helpers import make_app\n",
    "\n",
    "# Assumes that the model has been downloaded already.\n",
    "app = make_app(model_path=model_path)"
   ]
  },
  {
   "cell_type": "markdown",
   "id": "24e11d02-f0e5-40a9-afad-246b16aedcfe",
   "metadata": {},
   "source": [
    "### Read input files"
   ]
  },
  {
   "cell_type": "code",
   "execution_count": 5,
   "id": "ca6be53e-98fa-49f8-88f2-0c56f5edb4aa",
   "metadata": {
    "editable": true,
    "slideshow": {
     "slide_type": ""
    },
    "tags": []
   },
   "outputs": [],
   "source": [
    "import numpy as np\n",
    "\n",
    "# An array of shape [height, width, 2] containing nuclear & membrane channels\n",
    "with np.load(input_channels_path) as loader:\n",
    "    input_channels = loader['input_channels']\n",
    "\n",
    "# Conform to DeepCell's expected shape [num_inputs, height, width, 2]\n",
    "input_channels = input_channels[np.newaxis, ...]"
   ]
  },
  {
   "cell_type": "markdown",
   "id": "9567191d-d8d9-4d8f-8ade-6e1807dffd1e",
   "metadata": {},
   "source": [
    "# Generate predictions\n",
    "\n",
    "This step is expensive!"
   ]
  },
  {
   "cell_type": "code",
   "execution_count": 6,
   "id": "d8866adc-5185-4590-9cac-ecaabe6fa186",
   "metadata": {},
   "outputs": [
    {
     "name": "stdout",
     "output_type": "stream",
     "text": [
      "Prediction finished in 4.256865661998745 s\n"
     ]
    }
   ],
   "source": [
    "t = timeit.default_timer()\n",
    "\n",
    "import logging\n",
    "logging.root.setLevel(logging.DEBUG)\n",
    "\n",
    "predictions = app.predict(input_channels, image_mpp=0.5)[0]\n",
    "\n",
    "print('Prediction finished in %s s' % (timeit.default_timer() - t))"
   ]
  },
  {
   "cell_type": "markdown",
   "id": "7da681ab-ee1d-401e-a5c1-67159a91badc",
   "metadata": {},
   "source": [
    "# Save predictions"
   ]
  },
  {
   "cell_type": "code",
   "execution_count": 7,
   "id": "e783e555-f6f3-4502-af3d-e2fd1577afdf",
   "metadata": {
    "editable": true,
    "slideshow": {
     "slide_type": ""
    },
    "tags": []
   },
   "outputs": [],
   "source": [
    "import numpy as np\n",
    "np.savez_compressed('{}/predictions.npz'.format(output_path), predictions=predictions)"
   ]
  }
 ],
 "metadata": {
  "kernelspec": {
   "display_name": "Python 3 (ipykernel)",
   "language": "python",
   "name": "python3"
  },
  "language_info": {
   "codemirror_mode": {
    "name": "ipython",
    "version": 3
   },
   "file_extension": ".py",
   "mimetype": "text/x-python",
   "name": "python",
   "nbconvert_exporter": "python",
   "pygments_lexer": "ipython3",
   "version": "3.10.13"
  }
 },
 "nbformat": 4,
 "nbformat_minor": 5
}
