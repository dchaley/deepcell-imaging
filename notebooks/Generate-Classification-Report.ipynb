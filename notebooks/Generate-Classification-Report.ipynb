{
 "cells": [
  {
   "cell_type": "code",
   "execution_count": 1,
   "id": "9a23fed3-0755-40fa-ab73-072b2eaff033",
   "metadata": {},
   "outputs": [],
   "source": [
    "import deepcell\n",
    "import numpy as np\n",
    "import os\n",
    "from sklearn.metrics import confusion_matrix, classification_report"
   ]
  },
  {
   "cell_type": "markdown",
   "id": "8ad0eaae-adf2-43de-8b41-552881a1da23",
   "metadata": {},
   "source": [
    "## Load data and model"
   ]
  },
  {
   "cell_type": "code",
   "execution_count": 2,
   "id": "22f47a83-8b92-4e4f-820c-c5f92b4718ee",
   "metadata": {},
   "outputs": [],
   "source": [
    "selected_training_data_path = '../sample-data/deepcell/tissue-net/selected-5-train/selected_training_data.npz';\n",
    "with np.load(selected_training_data_path) as loader:\n",
    "    selected_training_X = loader['X']\n",
    "    selected_training_y = loader['y']"
   ]
  },
  {
   "cell_type": "code",
   "execution_count": 3,
   "id": "6264581e-62bf-4ba5-b3a7-f8ba30477fc9",
   "metadata": {},
   "outputs": [
    {
     "name": "stderr",
     "output_type": "stream",
     "text": [
      "2024-03-21 13:35:29.076245: I tensorflow/core/platform/cpu_feature_guard.cc:151] This TensorFlow binary is optimized with oneAPI Deep Neural Network Library (oneDNN) to use the following CPU instructions in performance-critical operations:  AVX2 FMA\n",
      "To enable them in other operations, rebuild TensorFlow with the appropriate compiler flags.\n"
     ]
    },
    {
     "name": "stdout",
     "output_type": "stream",
     "text": [
      "WARNING:tensorflow:No training configuration found in save file, so the model was *not* compiled. Compile it manually.\n",
      "Loaded model in 29.473865187726915 s\n"
     ]
    }
   ],
   "source": [
    "from imaging_helpers import make_app\n",
    "\n",
    "# Assumes that the model has been downloaded already.\n",
    "model_path = os.path.expanduser('~') + '/.keras/models/MultiplexSegmentation'\n",
    "app = make_app(model_path=model_path)"
   ]
  },
  {
   "cell_type": "markdown",
   "id": "98925027-7fbc-4467-80d8-628bb36f45bc",
   "metadata": {},
   "source": [
    "## Generate predictions\n",
    "\n",
    "Note that we have to select 1:2 in the first axis to keep the axis."
   ]
  },
  {
   "cell_type": "code",
   "execution_count": 4,
   "id": "b619eeb9-3ebe-43d8-9b12-79a0abbdfb14",
   "metadata": {},
   "outputs": [],
   "source": [
    "predictions = app.predict(selected_training_X[1:2, ...], image_mpp=0.5)[0]"
   ]
  },
  {
   "cell_type": "markdown",
   "id": "64ca90e6-2075-4adb-858d-9f15d49b162d",
   "metadata": {},
   "source": [
    "## Generate classification report\n",
    "\n",
    "Note that we convert the predictions to binary: the pixel either is, or is not, in a cell."
   ]
  },
  {
   "cell_type": "code",
   "execution_count": 5,
   "id": "3749566b-61f1-44e8-9192-b3c6b4361a8f",
   "metadata": {},
   "outputs": [
    {
     "name": "stdout",
     "output_type": "stream",
     "text": [
      "              precision    recall  f1-score   support\n",
      "\n",
      "       False       0.81      0.83      0.82     31733\n",
      "        True       0.98      0.97      0.97    230411\n",
      "\n",
      "    accuracy                           0.95    262144\n",
      "   macro avg       0.89      0.90      0.90    262144\n",
      "weighted avg       0.96      0.95      0.96    262144\n",
      "\n"
     ]
    }
   ],
   "source": [
    "selected_training_y[selected_training_y > 0] = 1\n",
    "selected_training_y = selected_training_y.astype(dtype=bool, copy=True)\n",
    "training_y_1 = selected_training_y[1, :, :, 0].copy()\n",
    "\n",
    "binary_predictions = predictions.copy()\n",
    "binary_predictions[binary_predictions > 0] = 1\n",
    "binary_predictions = binary_predictions.astype(dtype=bool)\n",
    "\n",
    "print(classification_report(training_y_1.reshape(-1, 1), binary_predictions.reshape(-1, 1)))"
   ]
  }
 ],
 "metadata": {
  "kernelspec": {
   "display_name": "Python 3 (ipykernel)",
   "language": "python",
   "name": "python3"
  },
  "language_info": {
   "codemirror_mode": {
    "name": "ipython",
    "version": 3
   },
   "file_extension": ".py",
   "mimetype": "text/x-python",
   "name": "python",
   "nbconvert_exporter": "python",
   "pygments_lexer": "ipython3",
   "version": "3.10.13"
  }
 },
 "nbformat": 4,
 "nbformat_minor": 5
}
